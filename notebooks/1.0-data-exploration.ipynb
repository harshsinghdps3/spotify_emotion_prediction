{
 "cells": [
  {
   "cell_type": "code",
   "execution_count": null,
   "metadata": {},
   "outputs": [],
   "source": [
    "\n",
    "import os\n",
    "import sys\n",
    "import logging\n",
    "from pathlib import Path\n",
    "from datetime import datetime"
   ]
  },
  {
   "cell_type": "code",
   "execution_count": null,
   "metadata": {},
   "outputs": [],
   "source": [
    "\n",
    "import pandas as pd\n",
    "import numpy as np\n",
    "import matplotlib.pyplot as plt\n",
    "import seaborn as sns\n",
    "import yaml # For reading the config file"
   ]
  },
  {
   "cell_type": "code",
   "execution_count": null,
   "metadata": {},
   "outputs": [],
   "source": [
    "\n",
    "logging.basicConfig(level=logging.INFO, format='%(asctime)s - %(levelname)s - %(message)s')"
   ]
  },
  {
   "cell_type": "code",
   "execution_count": null,
   "metadata": {},
   "outputs": [
    {
     "data": {
      "text/plain": [
       "WindowsPath('d:/projects/spotify_emotion_prediction/config/config.yaml')"
      ]
     },
     "execution_count": 5,
     "metadata": {},
     "output_type": "execute_result"
    }
   ],
   "source": [
    "\n",
    "def load_config(config_path: Path):\n",
    "    with open(config_path, 'r') as file:\n",
    "        return yaml.safe_load(file)\n",
    "\n",
    "# Assuming config folder is at project root, one level up from 'notebooks'\n",
    "CONFIG_PATH = Path.cwd().parent / 'config' / 'config.yaml' \n",
    "CONFIG = load_config(CONFIG_PATH)\n",
    "CONFIG_PATH"
   ]
  },
  {
   "cell_type": "code",
   "execution_count": 27,
   "metadata": {},
   "outputs": [],
   "source": [
    "# Display settings for pandas DataFrames\n",
    "pd.set_option('display.max_columns', None)\n",
    "pd.set_option('display.width', 1000)"
   ]
  },
  {
   "cell_type": "code",
   "execution_count": 28,
   "metadata": {},
   "outputs": [
    {
     "data": {
      "text/plain": [
       "WindowsPath('d:/projects/spotify_emotion_prediction')"
      ]
     },
     "execution_count": 28,
     "metadata": {},
     "output_type": "execute_result"
    }
   ],
   "source": [
    "# Define data path using pathlib for platform independence and readability\n",
    "# In a Jupyter notebook, Path.cwd() is the notebook's directory (e.g., spotify_emotion_recognition/notebooks/).\n",
    "# We need to go up one level to the project root, and then navigate using the config path.\n",
    "CURRENT_DIR = Path.cwd()\n",
    "PROJECT_ROOT = CURRENT_DIR.parent \n",
    "\n",
    "# Raw data path will be read from the config file\n",
    "RAW_DATA_PATH = PROJECT_ROOT / CONFIG['data']['raw_data_path'] \n",
    "PROJECT_ROOT"
   ]
  },
  {
   "cell_type": "code",
   "execution_count": 29,
   "metadata": {},
   "outputs": [],
   "source": [
    "def load_data(path: Path) -> pd.DataFrame:\n",
    "    logging.info(f\"Loading data from: {path}\")\n",
    "    if not path.exists():\n",
    "        logging.error(f\"File not found: {path}\")\n",
    "        raise FileNotFoundError(f\"File not found at: {path}\")\n",
    "    try:\n",
    "        df = pd.read_csv(path, low_memory=False)\n",
    "        logging.info(\"Data loaded.\")\n",
    "        return df\n",
    "    except Exception as e:\n",
    "        logging.error(f\"Error loading data: {e}\")\n",
    "        raise\n"
   ]
  },
  {
   "cell_type": "code",
   "execution_count": 30,
   "metadata": {},
   "outputs": [],
   "source": [
    "def get_memory_usage(df: pd.DataFrame) -> None:\n",
    "    # Prints the memory usage of the DataFrame, broken down by columns.\n",
    "    # Optimized for large datasets by showing actual memory usage.\n",
    "    logging.info(\"Checking memory usage of the DataFrame.\")\n",
    "\n",
    "    # Calculate and convert memory usage for each column to MB\n",
    "    memory_usage_mb = df.memory_usage(deep=True) / (1024 * 1024)\n",
    "\n",
    "    print(\"\\nMemory usage by column:\")\n",
    "    # Print column-wise memory usage directly from the calculated series\n",
    "    for column, mem_mb in memory_usage_mb.drop('Index', errors='ignore').items():\n",
    "        print(f\"{column}: {mem_mb:.2f} MB\")\n",
    "\n",
    "    # Calculate and print total DataFrame memory usage\n",
    "    total_memory_mb = memory_usage_mb.sum()\n",
    "    print(f\"\\nTotal DataFrame Memory Usage: {total_memory_mb:.2f} MB\")\n",
    "    logging.info(f\"DataFrame total memory usage: {total_memory_mb:.2f} MB\")\n"
   ]
  },
  {
   "cell_type": "code",
   "execution_count": 31,
   "metadata": {},
   "outputs": [],
   "source": [
    "def display_dataframe_overview(df: pd.DataFrame) -> None:\n",
    "    # Displays basic overview of the DataFrame including dimensions, head, tail and random samples.\n",
    "    print(\"\\n### Dataset Dimensions ###\")\n",
    "    print(f\"Rows: {df.shape[0]} \\nColumns: {df.shape[1]} \") # Display rows and columns on one line\n",
    "    logging.info(f\"Dataset dimensions: Rows={df.shape[0]}, Columns={df.shape[1]}\")\n",
    "\n",
    "    print(\"\\n### First 5 Rows ###\")\n",
    "    print(df.head()) # Display the first 5 rows\n",
    "    logging.info(\"Displayed first 5 rows.\")\n",
    "\n",
    "    print(\"\\n### Last 5 Rows ###\")\n",
    "    print(df.tail()) # Display the last 5 rows\n",
    "    logging.info(\"Displayed last 5 rows.\")\n",
    "\n",
    "    print(\"\\n### 10 Random Samples ###\")\n",
    "    print(df.sample(10)) # Display 10 random samples\n",
    "    logging.info(\"Displayed 10 random samples.\")"
   ]
  },
  {
   "cell_type": "code",
   "execution_count": 33,
   "metadata": {},
   "outputs": [],
   "source": [
    "def check_data_types_and_missing_values(df: pd.DataFrame) -> None:\n",
    "    # Checks column names, their data types, non-null counts, and reports missing values.\n",
    "    print(\"\\n### Column Names and Their Data Types ###\") # Print header for data types\n",
    "    df.info() # Display DataFrame info (includes dtypes and non-null counts)\n",
    "    print(\"\\n### Data Types Summary ###\") # Print header for data types summary\n",
    "    print(df.dtypes.value_counts()) # Display count of each data type\n",
    "    logging.info(\"Displayed column info and data types summary.\") # Log the action\n",
    "\n",
    "    print(\"\\n### Missing Values Count ###\") # Print header for missing values\n",
    "    # Calculate missing values count and percentage, create DataFrame, filter, and sort in one chain\n",
    "    missing_df = pd.DataFrame({\n",
    "        'Missing Count': df.isnull().sum(), # Calculate count of nulls per column\n",
    "        'Missing Percentage (%)': (df.isnull().sum() / len(df)) * 100 # Calculate percentage of nulls\n",
    "    }).loc[lambda x: x['Missing Count'] > 0].sort_values(by='Missing Percentage (%)', ascending=False) # Filter for >0 missing and sort\n",
    "\n",
    "    print(missing_df) # Print the filtered and sorted missing values DataFrame\n",
    "    logging.info(\"Reported missing values count and percentage.\") # Log the action"
   ]
  },
  {
   "cell_type": "code",
   "execution_count": 34,
   "metadata": {},
   "outputs": [],
   "source": [
    "def check_duplicate_rows(df: pd.DataFrame) -> None:\n",
    "    # Checks and reports the number of duplicate rows.\n",
    "    print(\"\\n### Duplicate Rows Check ###\") # Print header for duplicate check\n",
    "    num_duplicates = df.duplicated().sum() # Calculate the total number of duplicate rows\n",
    "    print(f\"Number of duplicate rows: {num_duplicates}\") # Print the count of duplicate rows\n",
    "    # Log a warning if duplicates are found, otherwise log info\n",
    "    if num_duplicates > 0:\n",
    "        logging.warning(f\"Found {num_duplicates} duplicate rows.\")\n",
    "    else:\n",
    "        logging.info(\"No duplicate rows found.\")\n"
   ]
  },
  {
   "cell_type": "code",
   "execution_count": null,
   "metadata": {},
   "outputs": [],
   "source": [
    "def get_descriptive_statistics(df: pd.DataFrame) -> None:\n",
    "    \n",
    "    print(\"\\n### Descriptive Statistics for Numerical Features ###\") \n",
    "    numerical_features = df.select_dtypes(include=np.number) \n",
    "    if not numerical_features.empty:\n",
    "        print(numerical_features.describe()) \n",
    "        logging.info(\"Displayed descriptive statistics for numerical features.\")\n",
    "    else:\n",
    "        logging.info(\"No numerical features found for descriptive statistics.\")"
   ]
  },
  {
   "cell_type": "code",
   "execution_count": null,
   "metadata": {},
   "outputs": [],
   "source": [
    "def detect_outliers_iqr(df: pd.DataFrame) -> None:\n",
    "   \n",
    "    print(\"\\n### Outlier Detection using IQR Method ###\")\n",
    "    numerical_cols = df.select_dtypes(include=np.number).columns\n",
    "\n",
    "    if numerical_cols.empty:\n",
    "        logging.info(\"No numerical columns found to detect outliers.\")\n",
    "        return\n",
    "\n",
    "    outliers_found = False\n",
    "    for col in numerical_cols:\n",
    "        # Calculate Q1, Q3, and IQR\n",
    "        Q1 = df[col].quantile(0.25)\n",
    "        Q3 = df[col].quantile(0.75)\n",
    "        IQR = Q3 - Q1\n",
    "\n",
    "        # Define bounds for outliers\n",
    "        lower_bound = Q1 - 1.5 * IQR\n",
    "        upper_bound = Q3 + 1.5 * IQR\n",
    "\n",
    "        # Count outliers\n",
    "        outliers_count = df[(df[col] < lower_bound) | (df[col] > upper_bound)].shape[0]\n",
    "\n",
    "        if outliers_count > 0:\n",
    "            print(f\"{col}: {outliers_count} outliers (Lower bound: {lower_bound:.2f}, Upper bound: {upper_bound:.2f})\")\n",
    "            logging.warning(f\"Outliers detected in '{col}': {outliers_count} outliers.\")\n",
    "            outliers_found = True\n",
    "\n",
    "    if not outliers_found:\n",
    "         logging.info(\"No outliers detected in numerical columns.\")\n"
   ]
  },
  {
   "cell_type": "code",
   "execution_count": 36,
   "metadata": {},
   "outputs": [],
   "source": [
    "def analyze_categorical_features(df: pd.DataFrame, target_column: str) -> None:\n",
    "    \n",
    "    print(\"\\n### Categorical Features: Unique Values and Frequencies ###\")\n",
    "    categorical_cols = df.select_dtypes(include='object').columns\n",
    "\n",
    "    for col in categorical_cols:\n",
    "        # Combine header and unique count on one line\n",
    "        print(f\"\\n--- {col} (Unique values: {df[col].nunique()}) ---\")\n",
    "        # Print value counts\n",
    "        print(df[col].value_counts(dropna=False))\n",
    "        logging.info(f\"Analyzed unique values and frequencies for '{col}'.\")\n",
    "\n",
    "    # Special attention to the target column ('emotion')\n",
    "    if target_column in df.columns:\n",
    "        print(f\"\\n### '{target_column}' column distribution (Target Variable) ###\")\n",
    "        print(df[target_column].value_counts(dropna=False))\n",
    "        logging.info(f\"Displayed distribution of the '{target_column}' target variable.\")\n",
    "    else:\n",
    "        logging.warning(f\"Target column '{target_column}' not found in DataFrame.\")"
   ]
  },
  {
   "cell_type": "code",
   "execution_count": null,
   "metadata": {},
   "outputs": [],
   "source": [
    "def main():\n",
    "    \n",
    "    logging.info(\"Starting data exploration process for 1.0-data-exploration.ipynb.\")\n",
    "\n",
    "    try:\n",
    "        df = load_data(RAW_DATA_PATH)\n",
    "        get_memory_usage(df)\n",
    "        display_dataframe_overview(df)\n",
    "        check_data_types_and_missing_values(df)\n",
    "        check_duplicate_rows(df)\n",
    "        get_descriptive_statistics(df)\n",
    "        detect_outliers_iqr(df)\n",
    "        analyze_categorical_features(df)\n",
    "        logging.info(\"Data exploration completed successfully.\")\n",
    "\n",
    "    except FileNotFoundError as fnf_error:\n",
    "        logging.error(f\"Critical Error: {fnf_error}\")\n",
    "        sys.exit(1) # Exit with an error code\n",
    "    except Exception as e:\n",
    "        logging.critical(f\"An unexpected error occurred during data exploration: {e}\")\n",
    "        sys.exit(1) # Exit with an error code\n"
   ]
  },
  {
   "cell_type": "code",
   "execution_count": null,
   "metadata": {},
   "outputs": [
    {
     "name": "stderr",
     "output_type": "stream",
     "text": [
      "2025-06-12 18:28:33,863 - INFO - Starting data exploration process for 1.0-data-exploration.ipynb.\n",
      "2025-06-12 18:28:33,865 - INFO - Loading data from: d:\\projects\\spotify_emotion_prediction\\src\\data\\raw\\spotify_dataset.csv\n",
      "2025-06-12 18:28:51,077 - INFO - Data loaded.\n",
      "2025-06-12 18:28:51,079 - INFO - Checking memory usage of the DataFrame.\n",
      "2025-06-12 18:28:52,617 - INFO - DataFrame total memory usage: 1950.00 MB\n",
      "2025-06-12 18:28:52,618 - INFO - Dataset dimensions: Rows=551443, Columns=39\n",
      "2025-06-12 18:28:52,629 - INFO - Displayed first 5 rows.\n",
      "2025-06-12 18:28:52,636 - INFO - Displayed last 5 rows.\n",
      "2025-06-12 18:28:52,665 - INFO - Displayed 10 random samples.\n"
     ]
    },
    {
     "name": "stdout",
     "output_type": "stream",
     "text": [
      "\n",
      "Memory usage by column:\n",
      "Artist(s): 38.16 MB\n",
      "song: 37.59 MB\n",
      "text: 1249.80 MB\n",
      "Length: 32.61 MB\n",
      "emotion: 32.50 MB\n",
      "Genre: 36.64 MB\n",
      "Album: 39.83 MB\n",
      "Release Date: 38.28 MB\n",
      "Key: 32.79 MB\n",
      "Tempo: 4.21 MB\n",
      "Loudness (db): 33.55 MB\n",
      "Time signature: 31.55 MB\n",
      "Explicit: 31.18 MB\n",
      "Popularity: 4.21 MB\n",
      "Energy: 4.21 MB\n",
      "Danceability: 4.21 MB\n",
      "Positiveness: 4.21 MB\n",
      "Speechiness: 4.21 MB\n",
      "Liveness: 4.21 MB\n",
      "Acousticness: 4.21 MB\n",
      "Instrumentalness: 4.21 MB\n",
      "Good for Party: 4.21 MB\n",
      "Good for Work/Study: 4.21 MB\n",
      "Good for Relaxation/Meditation: 4.21 MB\n",
      "Good for Exercise: 4.21 MB\n",
      "Good for Running: 4.21 MB\n",
      "Good for Yoga/Stretching: 4.21 MB\n",
      "Good for Driving: 4.21 MB\n",
      "Good for Social Gatherings: 4.21 MB\n",
      "Good for Morning Routine: 4.21 MB\n",
      "Similar Artist 1: 38.17 MB\n",
      "Similar Song 1: 37.59 MB\n",
      "Similarity Score 1: 4.21 MB\n",
      "Similar Artist 2: 38.17 MB\n",
      "Similar Song 2: 37.54 MB\n",
      "Similarity Score 2: 4.21 MB\n",
      "Similar Artist 3: 38.16 MB\n",
      "Similar Song 3: 37.56 MB\n",
      "Similarity Score 3: 4.21 MB\n",
      "\n",
      "Total DataFrame Memory Usage: 1950.00 MB\n",
      "\n",
      "### Dataset Dimensions ###\n",
      "Rows: 551443 \n",
      "Columns: 39 \n",
      "\n",
      "### First 5 Rows ###\n",
      "  Artist(s)                       song                                               text Length  emotion    Genre          Album       Release Date     Key  Tempo Loudness (db) Time signature Explicit  Popularity  Energy  Danceability  Positiveness  Speechiness  Liveness  Acousticness  Instrumentalness  Good for Party  Good for Work/Study  Good for Relaxation/Meditation  Good for Exercise  Good for Running  Good for Yoga/Stretching  Good for Driving  Good for Social Gatherings  Good for Morning Routine Similar Artist 1               Similar Song 1  Similarity Score 1 Similar Artist 2              Similar Song 2  Similarity Score 2 Similar Artist 3 Similar Song 3  Similarity Score 3\n",
      "0       !!!  Even When the Waters Cold  Friends told her she was better off at the bot...  03:47  sadness  hip hop       Thr!!!er    29th April 2013   D min    105       -6.85db            4/4       No          40      83            71            87            4        16            11                 0               0                    0                               0                  0                 0                         0                 0                           0                         0      Corey Smith       If I Could Do It Again            0.986061       Toby Keith           Drinks After Work            0.983719            Space  Neighbourhood            0.983236\n",
      "1       !!!         One Girl / One Boy  Well I heard it, playing soft From a drunken b...  04:03  sadness  hip hop       Thr!!!er    29th April 2013  A# min    117       -5.75db            4/4       No          42      85            70            87            4        32             0                 0               0                    0                               0                  0                 0                         0                 0                           0                         0  Hiroyuki Sawano                 BRE@TH//LESS            0.995409     When In Rome                Heaven Knows            0.990905     Justice Crew      Everybody            0.984483\n",
      "2       !!!          Pardon My Freedom  Oh my god, did I just say that out loud? Shoul...  05:51      joy  hip hop  Louden Up Now      8th June 2004   A Maj    121       -6.06db            4/4       No          29      89            71            63            8        64             0                20               0                    0                               0                  1                 0                         0                 0                           0                         0    Ricky Dillard  More Abundantly Medley Live            0.993176           Juliet                      Avalon            0.965147     The Jacksons     Lovely One            0.956752\n",
      "3       !!!                        Ooo  [Verse 1] Remember when I called you on the te...  03:44      joy  hip hop          As If  16th October 2015   A min    122       -5.42db            4/4       No          24      84            78            97            4        12            12                 0               0                    0                               0                  1                 0                         0                 0                           0                         0     Eric Clapton                Man Overboard            0.992749          Roxette  Don't Believe In Accidents            0.991494      Tiwa Savage      My Darlin            0.990381\n",
      "4       !!!                 Freedom 15  [Verse 1] Calling me like I got something to s...  06:00      joy  hip hop          As If  16th October 2015   F min    123       -5.57db            4/4       No          30      71            77            70            7        10             4                 1               0                    0                               0                  1                 0                         0                 0                           0                         0       Cibo Matto                 Lint Of Love            0.981610  Barrington Levy            Better Than Gold            0.981524        Freestyle  Its Automatic            0.981415\n",
      "\n",
      "### Last 5 Rows ###\n",
      "               Artist(s)                                               song                                               text Length  emotion      Genre                                              Album       Release Date     Key  Tempo Loudness (db) Time signature Explicit  Popularity  Energy  Danceability  Positiveness  Speechiness  Liveness  Acousticness  Instrumentalness  Good for Party  Good for Work/Study  Good for Relaxation/Meditation  Good for Exercise  Good for Running  Good for Yoga/Stretching  Good for Driving  Good for Social Gatherings  Good for Morning Routine        Similar Artist 1               Similar Song 1  Similarity Score 1                 Similar Artist 2        Similar Song 2  Similarity Score 2   Similar Artist 3           Similar Song 3  Similarity Score 3\n",
      "551438  박혜진 Park Hye Jin                                            Can you  Can you be my (Can you be my) Can you be my (C...  03:39      joy      house                   Can you (Galcher Lustwerk Remix)  14th October 2020   B min    140         -10db            4/4      Yes          31      82            83            19           16         9            39                72               0                    0                               0                  1                 0                         0                 0                           0                         0            LXST CXNTURY                NEVER EXISTED            0.946429                 Occvlt,StoneDogg                ALIZAY            0.926155            Peaches          Light in Places            0.923749\n",
      "551439  심형진 Hyungjin Sim  Lim Han Byul  Lee Hyuk - Prayer English Transl...  [Verse] I gave you my everything But I see I c...  08:47      joy  metalcore                                  비 준비하시니 Psalm_147    19th April 2022  G# Maj    128       -9.68db            4/4       No          29      43            39            26            3        10            54                 0               0                    0                               0                  0                 0                         0                 0                           0                         0               Kari Jobe                 No Fear Live            0.991961       The Belonging Co,Kari Jobe  Closer To Your Heart            0.990956        Saintseneca             Pillar of Na            0.990385\n",
      "551440               우정하                       Memories Smiling Tears Remix  [Tasha]               Hell on earth, watching ...  03:53  sadness    hip hop                                             MEMORY   30th August 2023  G# min     75       -4.67db            4/4       No          21      79            56            41            5        19             0                 0               0                    0                               0                  0                 0                         0                 0                           0                         0  Manic Street Preachers               People Give In            0.982809                    Vinyl Theatre                  Gold            0.980835           Unspoken  Life in the Death of Me            0.980171\n",
      "551441                제노                                    Come Back to Me  [Verse] Gifts and flowers lay upon the lid Of ...  03:12  sadness    hip hop                                   2008 to me again      3rd June 2008   E Maj    126       -3.93db            4/4       No           5      90            59            69            4         7            27                 0               0                    0                               0                  1                 0                         0                 0                           0                         0            Bonnie Raitt          I Can't Help Myself            0.983805  J. Roddy Walston & The Business            Bad Habits            0.982425       Idina Menzel       Damsel In Distress            0.975935\n",
      "551442                코케                                I Wanna Be With You  I wanna b with you I wanna b with you baby Yea...  03:32     love    hip hop  I Wanna Be With You : Originally Performed By ...  4th November 2020   D Maj    100      -14.55db            4/4       No           0      67            77            66            6         7             2                92               0                    0                               0                  0                 0                         0                 0                           0                         0       Ameritz - Karaoke  Roxanne 97 Puff Daddy Remix            0.987132                Ameritz - Karaoke               Roxanne            0.987132  ProSource Karaoke  Get Back Single Version            0.984674\n",
      "\n",
      "### 10 Random Samples ###\n",
      "                              Artist(s)             song                                               text Length  emotion                                Genre                                Album       Release Date     Key  Tempo Loudness (db) Time signature Explicit  Popularity  Energy  Danceability  Positiveness  Speechiness  Liveness  Acousticness  Instrumentalness  Good for Party  Good for Work/Study  Good for Relaxation/Meditation  Good for Exercise  Good for Running  Good for Yoga/Stretching  Good for Driving  Good for Social Gatherings  Good for Morning Routine                 Similar Artist 1                     Similar Song 1  Similarity Score 1                                   Similar Artist 2                      Similar Song 2  Similarity Score 2          Similar Artist 3                   Similar Song 3  Similarity Score 3\n",
      "319105                            Migos            Adios  [Verse 1: Quavo] These bitches see a young nig...  02:45      joy                         hip hop,trap                    Young Rich N*ggas      9th July 2013  D# min    117       -4.44db            4/4      Yes          27      71            81            27            5         9            36                 0               0                    0                               0                  0                 0                         0                 0                           0                         0        Megan Thee Stallion,Gunna                       Stop Playing            0.974265                                   A.ZEE,KWICK,BEEZ  2006 BET Hip Hop Awards - Cypher 1            0.964848          A.ZEE,KWICK,BEEZ            2012 RapGenius Cypher            0.964848\n",
      "420943                            Shofu        No Rivals  [Producer Tag: UBER BEATS] Yeah, it's UBER on ...  02:19      joy                              hip hop                         Trap Ketchum  3rd November 2017   B min    110       -4.18db            4/4      Yes          16      86            80            14           20        13            22                 0               0                    0                               0                  0                 0                         0                 0                           0                         0                           Kerser                    Intro Lifestyle            0.968684                                             Bailey                 Whos Got It Better?            0.965933                 Tech N9ne                         Too Much            0.963716\n",
      "93845                  Clarence Clarity             2016  [Refrain] In time We'll know In time We'll kno...  03:27  sadness                              hip hop                         THINK: PEACE   4th October 2018   E Maj     95      -10.81db            3/4       No           8      44            30             7            8        24            94                 1               0                    1                               0                  0                 0                         0                 0                           0                         0                        LION BABE                     Little Dreamer            0.975384        Kurt Weill,Brian Sullivan,Maurice Abravanel                        Lonely House            0.972511                   Ed Ames                 Who Will Answer?            0.972199\n",
      "549392                        zebrahead       Wake Me Up  I want a wrecking ball    I want to break it a...  03:49  sadness  alternative rock,punk rock,pop punk               Broadcast to the World    12th March 2024  C# Maj    104       -3.87db            4/4       No          38      98            52            45           12        41             0                 0               0                    0                               0                  0                 0                         0                 0                           0                         0             The Amity Affliction                                FML            0.989662                                           Currents                            The Rope            0.984978                  Currents                         Withered            0.984430\n",
      "369896                   PinkPantheress  Noticed I cried  [Verse 1] It was early last week, you said we ...  01:22  sadness                    pop,drum and bass                      to hell with it  15th October 2021   B Maj    164       -5.71db            4/4       No          54      86            50            39            6         7             5                13               0                    0                               0                  0                 0                         0                 0                           0                         0                   PinkPantheress                             Reason            0.970982                                          Bad Omens                        What It Cost            0.956515                 Hatebreed                     Perseverance            0.945751\n",
      "541595                       YG,Mustard    Right to Left  [Intro] [?]  [Chorus: Drake] Blue green jewels...  03:52      joy                              hip hop                        My Krazy Life    18th March 2014   D Maj     95       -8.25db            4/4      Yes          53      73            78            22           24        68             4                 0               0                    0                               0                  0                 0                         0                 0                           0                         0                       YG,Mustard                         Left Right            1.000000  Tech N9ne,Wrekonize,Snow Tha Product,Twisted I...                  So Dope They Wanna            0.958186    Meek Mill,Lil Uzi Vert                     Blue Notes 2            0.957381\n",
      "183068                        Goldfrapp       Head First  [Verse 1] I'm waiting longing for you One more...  03:51     love             rock,electronic,synthpop                           Head First    22nd March 2010   F Maj    131       -5.86db            4/4       No          38      77            66            44            3        38             0                 0               0                    0                               0                  1                 0                         0                 0                           0                         0                  Sia,Alan Walker                     Move Your Body            0.991103                                    Sia,Alan Walker    Move Your Body Alan Walker Remix            0.991103             Alkaline Trio                          In Vein            0.987943\n",
      "316487                    Micah Iverson      Butterflies  [Verse 1] Laid down with the memories stuck in...  02:39  sadness                              hip hop  Butterflies (The Voice Performance)      18th May 2020   F Maj    104       -7.31db            4/4       No          18      65            54            34           19        11            52                 0               0                    0                               0                  0                 0                         0                 0                           0                         0                            Hilts                           Mid July            0.931125                                         Kat Dahlia                              Mojada            0.929593             Preston Hutto                            Brain            0.926483\n",
      "104837  Curren$y,Big K.R.I.T.,Smoke DZA        Skybourne  [Hook: Big K.R.I.T.] I'll take you farther tha...  04:16      joy                              hip hop                  Pilot Talk: Trilogy      9th June 2017   E min     86       -7.79db            4/4      Yes          29      68            70            65           31        13            25                 0               0                    0                               0                  0                 0                         0                 0                           0                         0  Westside Gunn,Benny The Butcher                  Shower Shoe Lords            0.985464                                      Smif-N-Wessun                             Wontime            0.985117                 Young Dro  They Don't Really Know Bout Dro            0.984580\n",
      "542228             YNW Melly,Young Thug     Caprisun Fun  [Intro: YNW Melly] Yeah, hey, hey (Perfect) I ...  02:44      joy                              hip hop               Just A Matter of Slime   13th August 2021   G min    108       -5.21db            5/4      Yes          37      64            84            42           13         9             1                 0               0                    0                               0                  0                 0                         0                 0                           0                         1                   Daddyphatsnaps  Invincible Rap Sins of the Father            0.980151                                     Tiny Meat Gang                               Sofia            0.977419  Famous Dex,Fivio Foreign                       Couped Out            0.976651\n",
      "\n",
      "### Column Names and Their Data Types ###\n"
     ]
    },
    {
     "name": "stderr",
     "output_type": "stream",
     "text": [
      "2025-06-12 18:28:53,120 - INFO - Displayed column info and data types summary.\n"
     ]
    },
    {
     "name": "stdout",
     "output_type": "stream",
     "text": [
      "<class 'pandas.core.frame.DataFrame'>\n",
      "RangeIndex: 551443 entries, 0 to 551442\n",
      "Data columns (total 39 columns):\n",
      " #   Column                          Non-Null Count   Dtype  \n",
      "---  ------                          --------------   -----  \n",
      " 0   Artist(s)                       551443 non-null  object \n",
      " 1   song                            551427 non-null  object \n",
      " 2   text                            551443 non-null  object \n",
      " 3   Length                          551443 non-null  object \n",
      " 4   emotion                         551443 non-null  object \n",
      " 5   Genre                           551443 non-null  object \n",
      " 6   Album                           551391 non-null  object \n",
      " 7   Release Date                    551443 non-null  object \n",
      " 8   Key                             551443 non-null  object \n",
      " 9   Tempo                           551443 non-null  int64  \n",
      " 10  Loudness (db)                   551443 non-null  object \n",
      " 11  Time signature                  551435 non-null  object \n",
      " 12  Explicit                        551443 non-null  object \n",
      " 13  Popularity                      551443 non-null  int64  \n",
      " 14  Energy                          551443 non-null  int64  \n",
      " 15  Danceability                    551443 non-null  int64  \n",
      " 16  Positiveness                    551443 non-null  int64  \n",
      " 17  Speechiness                     551443 non-null  int64  \n",
      " 18  Liveness                        551443 non-null  int64  \n",
      " 19  Acousticness                    551443 non-null  int64  \n",
      " 20  Instrumentalness                551443 non-null  int64  \n",
      " 21  Good for Party                  551443 non-null  int64  \n",
      " 22  Good for Work/Study             551443 non-null  int64  \n",
      " 23  Good for Relaxation/Meditation  551443 non-null  int64  \n",
      " 24  Good for Exercise               551443 non-null  int64  \n",
      " 25  Good for Running                551443 non-null  int64  \n",
      " 26  Good for Yoga/Stretching        551443 non-null  int64  \n",
      " 27  Good for Driving                551443 non-null  int64  \n",
      " 28  Good for Social Gatherings      551443 non-null  int64  \n",
      " 29  Good for Morning Routine        551443 non-null  int64  \n",
      " 30  Similar Artist 1                551443 non-null  object \n",
      " 31  Similar Song 1                  551424 non-null  object \n",
      " 32  Similarity Score 1              551443 non-null  float64\n",
      " 33  Similar Artist 2                551443 non-null  object \n",
      " 34  Similar Song 2                  551423 non-null  object \n",
      " 35  Similarity Score 2              551443 non-null  float64\n",
      " 36  Similar Artist 3                551443 non-null  object \n",
      " 37  Similar Song 3                  551439 non-null  object \n",
      " 38  Similarity Score 3              551443 non-null  float64\n",
      "dtypes: float64(3), int64(18), object(18)\n",
      "memory usage: 164.1+ MB\n",
      "\n",
      "### Data Types Summary ###\n",
      "object     18\n",
      "int64      18\n",
      "float64     3\n",
      "Name: count, dtype: int64\n",
      "\n",
      "### Missing Values Count ###\n"
     ]
    },
    {
     "name": "stderr",
     "output_type": "stream",
     "text": [
      "2025-06-12 18:28:54,123 - INFO - Reported missing values count and percentage.\n"
     ]
    },
    {
     "name": "stdout",
     "output_type": "stream",
     "text": [
      "                Missing Count  Missing Percentage (%)\n",
      "Album                      52                0.009430\n",
      "Similar Song 2             20                0.003627\n",
      "Similar Song 1             19                0.003446\n",
      "song                       16                0.002901\n",
      "Time signature              8                0.001451\n",
      "Similar Song 3              4                0.000725\n",
      "\n",
      "### Duplicate Rows Check ###\n"
     ]
    },
    {
     "name": "stderr",
     "output_type": "stream",
     "text": [
      "2025-06-12 18:28:58,785 - WARNING - Found 53391 duplicate rows.\n"
     ]
    },
    {
     "name": "stdout",
     "output_type": "stream",
     "text": [
      "Number of duplicate rows: 53391\n",
      "\n",
      "### Descriptive Statistics for Numerical Features ###\n"
     ]
    },
    {
     "name": "stderr",
     "output_type": "stream",
     "text": [
      "2025-06-12 18:28:59,139 - INFO - Displayed descriptive statistics for numerical features.\n"
     ]
    },
    {
     "name": "stdout",
     "output_type": "stream",
     "text": [
      "               Tempo     Popularity         Energy   Danceability   Positiveness    Speechiness       Liveness   Acousticness  Instrumentalness  Good for Party  Good for Work/Study  Good for Relaxation/Meditation  Good for Exercise  Good for Running  Good for Yoga/Stretching  Good for Driving  Good for Social Gatherings  Good for Morning Routine  Similarity Score 1  Similarity Score 2  Similarity Score 3\n",
      "count  551443.000000  551443.000000  551443.000000  551443.000000  551443.000000  551443.000000  551443.000000  551443.000000     551443.000000   551443.000000        551443.000000                   551443.000000      551443.000000     551443.000000             551443.000000     551443.000000               551443.000000             551443.000000       551443.000000       551443.000000       551443.000000\n",
      "mean      120.513567      32.258106      62.661874      59.195460      47.738330      11.663980      19.655658      25.748436          7.152255        0.061809             0.074931                        0.030772           0.187334          0.053842                  0.021484          0.057797                    0.012253                  0.066215            0.984107            0.979013            0.975938\n",
      "std        29.185533      18.033931      22.399159      17.511007      24.159671      12.342389      16.274817      29.343731         20.589200        0.240808             0.263280                        0.172700           0.390180          0.225707                  0.144990          0.233360                    0.110014                  0.248658            0.013559            0.015438            0.016512\n",
      "min        31.000000       0.000000       0.000000       6.000000       0.000000       2.000000       1.000000       0.000000          0.000000        0.000000             0.000000                        0.000000           0.000000          0.000000                  0.000000          0.000000                    0.000000                  0.000000            0.002656            0.002647            0.002647\n",
      "25%        97.000000      20.000000      48.000000      47.000000      28.000000       4.000000      10.000000       2.000000          0.000000        0.000000             0.000000                        0.000000           0.000000          0.000000                  0.000000          0.000000                    0.000000                  0.000000            0.977433            0.971582            0.967926\n",
      "50%       120.000000      30.000000      65.000000      60.000000      47.000000       6.000000      13.000000      12.000000          0.000000        0.000000             0.000000                        0.000000           0.000000          0.000000                  0.000000          0.000000                    0.000000                  0.000000            0.985926            0.980971            0.978078\n",
      "75%       140.000000      43.000000      80.000000      72.000000      66.000000      15.000000      25.000000      43.000000          0.000000        0.000000             0.000000                        0.000000           0.000000          0.000000                  0.000000          0.000000                    0.000000                  0.000000            0.993567            0.988592            0.986079\n",
      "max       200.000000     100.000000     100.000000      99.000000     100.000000      97.000000     100.000000     100.000000        100.000000        1.000000             1.000000                        1.000000           1.000000          1.000000                  1.000000          1.000000                    1.000000                  1.000000            1.000000            1.000000            1.000000\n",
      "\n",
      "### Outlier Detection using IQR Method ###\n"
     ]
    },
    {
     "name": "stderr",
     "output_type": "stream",
     "text": [
      "2025-06-12 18:28:59,895 - INFO - Outliers detected in 'Tempo': 4 outliers.\n",
      "2025-06-12 18:28:59,896 - INFO - Outliers detected in 'Popularity': 8574 outliers.\n",
      "2025-06-12 18:28:59,897 - INFO - Outliers detected in 'Danceability': 611 outliers.\n",
      "2025-06-12 18:28:59,898 - INFO - Outliers detected in 'Speechiness': 51711 outliers.\n",
      "2025-06-12 18:28:59,898 - INFO - Outliers detected in 'Liveness': 36698 outliers.\n",
      "2025-06-12 18:28:59,901 - INFO - Outliers detected in 'Instrumentalness': 127328 outliers.\n",
      "2025-06-12 18:28:59,901 - INFO - Outliers detected in 'Good for Party': 34084 outliers.\n",
      "2025-06-12 18:28:59,902 - INFO - Outliers detected in 'Good for Work/Study': 41320 outliers.\n",
      "2025-06-12 18:28:59,904 - INFO - Outliers detected in 'Good for Relaxation/Meditation': 16969 outliers.\n",
      "2025-06-12 18:28:59,904 - INFO - Outliers detected in 'Good for Exercise': 103304 outliers.\n",
      "2025-06-12 18:28:59,905 - INFO - Outliers detected in 'Good for Running': 29691 outliers.\n",
      "2025-06-12 18:28:59,905 - INFO - Outliers detected in 'Good for Yoga/Stretching': 11847 outliers.\n",
      "2025-06-12 18:28:59,906 - INFO - Outliers detected in 'Good for Driving': 31872 outliers.\n",
      "2025-06-12 18:28:59,907 - INFO - Outliers detected in 'Good for Social Gatherings': 6757 outliers.\n",
      "2025-06-12 18:28:59,908 - INFO - Outliers detected in 'Good for Morning Routine': 36514 outliers.\n",
      "2025-06-12 18:28:59,909 - INFO - Outliers detected in 'Similarity Score 1': 15593 outliers.\n",
      "2025-06-12 18:28:59,910 - INFO - Outliers detected in 'Similarity Score 2': 17362 outliers.\n",
      "2025-06-12 18:28:59,911 - INFO - Outliers detected in 'Similarity Score 3': 17389 outliers.\n"
     ]
    },
    {
     "name": "stdout",
     "output_type": "stream",
     "text": [
      "Tempo: 4 outliers (Lower bound: 32.50, Upper bound: 204.50)\n",
      "Popularity: 8574 outliers (Lower bound: -14.50, Upper bound: 77.50)\n",
      "Danceability: 611 outliers (Lower bound: 9.50, Upper bound: 109.50)\n",
      "Speechiness: 51711 outliers (Lower bound: -12.50, Upper bound: 31.50)\n",
      "Liveness: 36698 outliers (Lower bound: -12.50, Upper bound: 47.50)\n",
      "Instrumentalness: 127328 outliers (Lower bound: 0.00, Upper bound: 0.00)\n",
      "Good for Party: 34084 outliers (Lower bound: 0.00, Upper bound: 0.00)\n",
      "Good for Work/Study: 41320 outliers (Lower bound: 0.00, Upper bound: 0.00)\n",
      "Good for Relaxation/Meditation: 16969 outliers (Lower bound: 0.00, Upper bound: 0.00)\n",
      "Good for Exercise: 103304 outliers (Lower bound: 0.00, Upper bound: 0.00)\n",
      "Good for Running: 29691 outliers (Lower bound: 0.00, Upper bound: 0.00)\n",
      "Good for Yoga/Stretching: 11847 outliers (Lower bound: 0.00, Upper bound: 0.00)\n",
      "Good for Driving: 31872 outliers (Lower bound: 0.00, Upper bound: 0.00)\n",
      "Good for Social Gatherings: 6757 outliers (Lower bound: 0.00, Upper bound: 0.00)\n",
      "Good for Morning Routine: 36514 outliers (Lower bound: 0.00, Upper bound: 0.00)\n",
      "Similarity Score 1: 15593 outliers (Lower bound: 0.95, Upper bound: 1.02)\n",
      "Similarity Score 2: 17362 outliers (Lower bound: 0.95, Upper bound: 1.01)\n",
      "Similarity Score 3: 17389 outliers (Lower bound: 0.94, Upper bound: 1.01)\n",
      "\n",
      "### Categorical Features: Unique Values and Frequencies ###\n"
     ]
    },
    {
     "name": "stderr",
     "output_type": "stream",
     "text": [
      "2025-06-12 18:29:00,211 - INFO - Analyzed unique values and frequencies for 'Artist(s)'.\n"
     ]
    },
    {
     "name": "stdout",
     "output_type": "stream",
     "text": [
      "\n",
      "--- Artist(s) (Unique values: 127334) ---\n",
      "Artist(s)\n",
      "Victor J Sefo,Lisi,Mwayz,Sefos.Beats    1603\n",
      "L.A.B.                                  1428\n",
      "The Exponents                            726\n",
      "Corrella                                 706\n",
      "TEMM DOGG                                701\n",
      "                                        ... \n",
      "Jacob Bellens                              1\n",
      "Jacob Baron                                1\n",
      "Jacob Banks,WESTSIDE BOOGIE                1\n",
      "Jacob Banks,Timbaland                      1\n",
      "코케                                         1\n",
      "Name: count, Length: 127334, dtype: int64\n",
      "\n",
      "--- song (Unique values: 317906) ---\n"
     ]
    },
    {
     "name": "stderr",
     "output_type": "stream",
     "text": [
      "2025-06-12 18:29:00,531 - INFO - Analyzed unique values and frequencies for 'song'.\n"
     ]
    },
    {
     "name": "stdout",
     "output_type": "stream",
     "text": [
      "song\n",
      "The Chinese Aint Do Tiananmen Square I Did    1603\n",
      "Heataz                                         593\n",
      "King Of The Jungle                             575\n",
      "Hooker Got a Boyfriend                         469\n",
      "On Da Roadz Freestyle                          418\n",
      "                                              ... \n",
      "If I Ever Get Back To Georgia                    1\n",
      "I'll Go On Alone                                 1\n",
      "I'm Glad I Got To See You Once Again             1\n",
      "I'm Glad I'm On The Inside Looking Out           1\n",
      "Memories Smiling Tears Remix                     1\n",
      "Name: count, Length: 317907, dtype: int64\n"
     ]
    },
    {
     "name": "stderr",
     "output_type": "stream",
     "text": [
      "2025-06-12 18:29:03,738 - INFO - Analyzed unique values and frequencies for 'text'.\n",
      "2025-06-12 18:29:03,771 - INFO - Analyzed unique values and frequencies for 'Length'.\n",
      "2025-06-12 18:29:03,838 - INFO - Analyzed unique values and frequencies for 'emotion'.\n"
     ]
    },
    {
     "name": "stdout",
     "output_type": "stream",
     "text": [
      "\n",
      "--- text (Unique values: 497496) ---\n",
      "text\n",
      "[Hook] Crazy cash, sick cash Tell me, what am I gonna do with all this money? Stupid cash, retarded cash Tell me, what am I gonna do with all this money? Unnecessary cash, let it rain cash Tell me, what am I gonna do with all this money? So much cash, it's too much cash Tell me, what am I gonna do with all this money?  [Verse 1] Uh-uh I done went and got wealth Now these boys wishin' that I was in bad health Models choosin' up Like I'm the last man on Earth Meanwhile, I got these boys feelings hurt Tall pretty nigga it ain't fair I got it all Killer hops, with cash to blow up a mall Life ain't fair for y'all So just watch me ball Will you be a hater like folks that wanna see me fall? I hope they all stall Just watch my new ride crawl Holla' at me at the whole court for a hoop call Bring yo homies even if they can't stand me Just don't take it personal when I get that grammy [Hook] Crazy cash, sick cash Tell me, what am I gonna do with all this money? Stupid cash, retarded cash Tell me, what am I gonna do with all this money? Unnecessary cash, let it rain cash Tell me, what am I gonna do with all this money? So much cash, it's too much cash Tell me, what am I gonna do with all this money?  [Verse 2] I'm waiting for them to make a new Lambo body style These niggas riding around the same old body style as '05 How did these nothing rappers get deals and even think they rippin' No need to answer that cause I'm rich so I ain't trippin' Getting [?] got me lookin' towards beef Test this and you'll be cold beef in the streets I'm a magician when it comes to that pistol play Make you disappear and reappear dead a different day Ok Keep me playin' in this money You boys broke as a joke That damn funny I'm something more than a balla' Ask around about me and and find out I'm that top malla' I'm somethin' like a chef Flippin' pizza bread And tryin' to keep all of this dough from going to my head That's a triple rhyme Did you hear what I said You gotta test your worth to sell the best Second rule of street cred [Hook] Crazy cash, sick cash Tell me, what am I gonna do with all this money? Stupid cash, retarded cash Tell me, what am I gonna do with all this money? Unnecessary cash, let it rain cash Tell me, what am I gonna do with all this money? So much cash, it's too much cash Tell me, what am I gonna do with all this money?                                                                                                                                                                                                                                                                                                                                                                                                                                                                                                                                                                                                                                                                                                                                                                                                                                                                                                                                                                                                                                                                                                                                                                                                                                                                                                                                                                                                                                                                                                                                                                                                                                                                                                                                                                                                                                                                                                                                                                                                                                                                                                                                                                                                                                                                                                                                                                                                                                                                                                                                                                                                                                                                                                                                                                                                                                                                                                                                                                                                                                                                                                                                                                                                                                                                                                                                                                                                                                                                                                                                                                                                                                                                                                           1603\n",
      "(First Degree): The evil that men do got me servin' heaters Morphin' them body bleeders into believers Had these bitches bringin' me cleavage and cannibis-sativa Big leaguers, wide receivers, we quivers off malt liters So lead us to the cheap shit, got more close so I could reach it Need it in the jungle, humble man gone too soon, wasn't ready for the rumble So I disperse my seasoning, pleasing when I get to reasoning Like soul cleaner, when did it, when did it get to heatin' up? Fuck, fuck, another fuck, fuck the bitch and they stuck Fuck till they brains stuffed, then changed they demeanor After sticking in vagina Turn a perfect stranger into my part time personal rump ranger Workin' the night shift, temporary employment, ya mind says fight it But your emotions is delighted And thats what runs you sensitive bitches and niggas Get ran for a loop, my heat is a muthafuck, First Degree Oh First Degree so bound to the city Sittin' high lookin' down next up to the climax Stayin' deliciously loaded, quit my fry, Mr. Hot burnin' flesh Got that THC marinatin' in my chest, that stays I guess So I'm approachin' this light shit, and heatin' it beautiful I'ma tokin' this wide stick, hittin' plentiful Huh, huh, huh, tryna make my dollar (Polo): I got somethin' for your mask This shit here is hard to swallow Could be hazardous to your health Fully equipped to leave your insides hollow Ziplock lips and listen I'm on a mission, switchin' positions In case of accidental consumption Dilute with 2 cups of milk and contact your physician Heated and hanged, who am I? Trigger Man, suspect number one I let loose, do not induce vomiting, or you throwing up your lung Dialing 9-1-1, it's flammable, uncontainable You die by the superfly when I spy, flip and grip, changeable Specially formulated to have all costs regulated And also the ones that participated in playing bitch games And plain playa hatin' 5 foot 6\", sick hogg and all about mines Dead bodies don't talk, kill 'em, tape and chalk So if you fall short....flatline Nigga, when you near give me adequate ventilation Avoid physical contact and inhalation Facial premeditation can lead to skin and eye irritation Does that exlude a bitch, Boot town boot up, shoot up shit Never water based, straight laced to your face With no nurse or first aid chase, no after taste Now brace yourself for the hand that rocks the cradle Nigga them conversations lead to sticky situations that sometimes turn fatal Hogg translation: Blew yay up straight with this heated association Illustrations Picture yourself in a body bag wearin' them closed casket decorations I got a house full of heaters and liters of gas to light up that ass And it's mandatory, too short for long conversation No pre-animation, no nuts, no glory, no witness, no story Makin' derogatory statements with my stainless Slugs with names signed in blood, individuals stuffed up the anus Dangerous, aimin' for your body Almost definitely pull that for hand to hand combat karate It's some a that southern young fool (P-Folk): Now what's up? I look in the rearview mirror Chevy Astro van's suspicious Usin' my brain, beware of the game Suspects might be thinkin' I'm fakin' It's a habit to be caught with and without Reachin' up under my seat to grab my piece And the chamber done gauged a round Turn a beat down, put it in first gear, slow pace Thinkin' that I might be paranoid Effects from the filthy re-chronic blunt that I just smoked with my boys Sped ahead, hogg check, all red til' I'm dead And I'll be damned if these niggas try to make me, P-Folk, brake bread I'm tied up to it, I'm dread Like it said 'you live by the sword, you die by the sword' These niggas don't know they got a one way ticket home to the Lord So bullets will spray, be up and out the situation And since it's a jack move, my objective is I gotta take 'em Roll 'em outta the mainstream How they warped thinkin' they been ejected all up in my section Make a left down Elkhorn, toward northern direction Viewer discretion, preparation for a justified homicide These niggas know they ain't no friend of mine, (check they self) Caught up at a red light Grippin' this trilli, thug from Highlands with nuthin' to prove Come here ruge, enemies hoppin' up out the low, P-Folks refuse to lose Split ones wig with the zig, evidently he didn't see my third eye The second suspect tried to hit P-Folk from the blind side Exchangin' round for round, look like a match, the lead sped out the strap One enemy down, two enemies gone, hollow point penetration to the back The villain defeated, the driver retreated and his partna leaded Jack got cracked in the mask, for sho' I'm heated (Lynch): They told me to get my heat, so I got mine Them muthafuckas done made they hit Now we only got the mini Mack in the trunk, sawed off pump and the .45th Confident that we handle funk like muthafuckin' g's So all you bitches and snitches get ditches when my trigger finger itches It's viscous, for some reason I'm still in that season All them other muthafuckas done left, smother muthafuckas to death Other muthafuckas done slept long Hit off the kryptonite and get gone Hit 'em up two in the dome, visit your funeral home alone Had love for them once when this shit got grim Killin' me softly, it's costly, check the chin, hit the Henn and then bend One dial 1-800 Old Gold And you picture me surrounded by fifty pounds of brown meat Grade A beef, it ain't cheap I got that shit that'll make them weak minds upchuck Upchuck your guts and I'll have your nuts, wassup? You was locked down, so I fucked your bitch Gave you that syphilis dick, looped the music, made slick throats slit Trump tight murder on sight, split ya dome, hit ya home at night Move in the dark with infer-red light You die, then I'mma do your wife I'ma leave you hangin' on your doorstep Have your wife ass butt naked, razor blade razed from the ass to the neck     593\n",
      "[Verse 1: G-Eazy] ...marathon always continue You all in the menu I do this for real, man I hope I offend you  [Verse 2: Preme] I eally got time today To say what I gotta say                                                                                                                                                                                                                                                                                                                                                                                                                                                                                                                                                                                                                                                                                                                                                                                                                                                                                                                                                                                                                                                                                                                                                                                                                                                                                                                                                                                                                                                                                                                                                                                                                                                                                                                                                                                                                                                                                                                                                                                                                                                                                                                                                                                                                                                                                                                                                                                                                                                                                                                                                                                                                                                                                                                                                                                                                                                                                                                                                                                                                                                                                                                                                                                                                                                                                                                                                                                                                                                                                                                                                                                                                                                                                                                                                                                                                                                                                                                                                                                                                                                                                                                                                                                                                                                                                                                                                                                                                                                                                                                                                                                                                                                                                                                                                                                                                                                                                                                                                                                                                                                                                                                                                                                                                                                                                                                                                                                                                                                                                                                                                                                                                                                                                                                                                                                                                                                                                                                                                                             575\n",
      "[Verse One] Aiyyo here's a tale, about a female I once messed with Or better yet, skins that I swung eps with Face full of grace, waist shaped like Vanessa Del Rio, oh-me-oh, my but the heffer had Big juicy lips, wide hips you had to call fat Stacked back to mack, yo the hooker was all that And lots more, and baby girl I had the hots for But I'm really not sure, who she spread the twat for Heard it was a kid across town named Hector But I don't give a heck, so I still went and checked her On the down low, he ain't around so Out of sight, out of mind, get your coat and let's go So we dipped, hopped in the whip and we was gone Off to City Island cause they had it goin on Two yuks a foo, now the mood was set Caviar at the bar, Red Star, Moet Silk suits, spendin loot like a straight up mack When I felt somebody finger tappin me on my back And turn around quick, but before I could begin All I seen was a big mac-10, aiyyo it's her boyfriend [Hook] \"Hooker got a boyfriend!\" \"Why do she do this boyfriend?\" \"Ohh ahhh.. why do she do this boyfriend?\"  [Verse Two] Check it, yo I broke camp, ran like a champ, yep I jetted Off to the trunk for the pump, time to set it Money kept screamin some CRAP that I dissed him So I started lettin off {*gunshots*} but I missed him Honey got scared, and called the five-oh So yo, you know the half Dukes, time for me to go Cause I ain't the type to be doin no bid For a dame or a lame-brained punk Spanish kid So I chill, call the hooker up the next day She told me come over yo, bet I'm on my way Be there in a sec, yo I'm not too far She said, \"Park around the back so he don't see the car\" Met me at the door with a kiss and a smile I said, \"Sorry about last night, money kinda wild\" \"Umm yeah I know, small thing don't worry\" Just show me to your room so we can do this in a hurry Kissed her from her earlobes down to her chest Went for the bellybutton and to hell with the rest Got her butt-naked and before a second passed I had her on the bed with my fingers up her {ahh!} Now she's ready, set for a good steady bangin Until she looked down and seen Moby Dick hangin She told me, \"Take it easy yo trust me just chill\" Knowin once I get up in it yo I'm goin for the kill So she spread 'em, thick rich and creamy like mayo Aiyyo, lay-o, the tip is on the way-o Pinned her legs back, just about to slide in When the door burst open {*SLAM*} damn it's her boyfriend! Did it again! [Hook]  [Verse Three] Now I'm mad, money done spoiled all the fun On top of that he beefin and he ain't got a gun Flippin the jibs, I guess he wanted to brawl So I started hookin all butt-naked and all Threw a right, caught money dead in the jaw BOOM with the left and his fronts hit the floor Now I had him, time to put his head for rest So I beat him unconcious and I started gettin dressed Honey all hysterical and screamin all hoarse Said she seen a box car pullin up in the yard Just bout to jet, yo guess what I saw Some old big black {*HMMM*} bust in the door \"Now hold up, what the hell you doin in my house? Get your ass off the floor, put your teeth in your mouth Now everybody better be gone by the count of one Look, better yet, y'all stay right here I'm goin to get my gun\" Now that's it! Enough is enough, I ain't with it I'm catchin mad beef and yo I ain't even hit it Honey looked good and yo the buns was fat But ain't a coochie in the whole WORLD worth all that So umm, I got my coat and I was on my way That's when she started breakin down, and beggin me to stay Knock it off, it ain't that much beggin in the world Next time I want some skins, I'll go and hit my own girl Man I'm out, and I ain't tryin to see you again So eff you, eff your pops AND YOUR FAGGOT-ASS BOYFRIEND! ..  [Hook] - repeat 2X to fade                                                                                                                                                                                                                                                                                                                                                                                                                                                                                                                                                                                                                                                                                                                                                                                                                                                                                                                                                                                                                                                                                                                                                                                                                                                                                                                                                                                                                                                                                                                                                                                                                                                                                                                                                                                                                                                                                                                                                                                                                                                                                                                                                                                                                                                469\n",
      "[Skrapz]  Yo I pull up on your block looking like I get paid Blue jeans on white tee low fade Zone out time blue cheese high grade I'm a old school weed man Ice Age I don't know about homeboy he looks strange Kinda looks like he might catch man a case Kinda feel like I might go to my base Line up the reh teh blare for my waist Ayo listen rudeboy its big Skrapz in the place I fucked up the track from the jump like a race Yo my cd's all over the place like a trace That ain't even all that I got it's a taste So I had few ups and downs with the jakes But thank god I'm still on the road I'm amazed Yo I love my daughters, and  I love their mum too I love my mum too, Mum I can't I forget you Yeah I'm looking at the sky, the sky's kinda blue That don't mean I won't make it rain on your crew Wildlife they can't tame man it's a Zoo BG I got that likkle catchphrase from you To my enemies them when I catch up with you Like benny banks badda bing badda boom I get kinda stressed when I'm sitting in my room Life that I chose so I ain't complaining If I had the chance right now to exchange it Might be a straight replay of the same shit Still woulda went  showroom and got the same whip Said I wanna spend 10 grand so I made it Getiing P's all over the road like a bailiff Pockets kinda fat but it ain't no tissues Baby mudda always used to say I got issues Cannabis cheese and Amnesia I misuse Bare raps up in my head like the Hindus Family I just wanna blow like the wind do Listen up close rudeboy man a genius I ghost rid the Bentley  coupe Have you seen it? Man said he wants me dead, Did he mean it Had a likkle mess on his head so I cleaned it Had likkle S on his chest so I caved it in Couple reh teh blares when I'm partying Bare yak bare cheese no Bacardi ting Bare tugz no scuzz in my army king A ting whispered in my ear can I push it in I told her fall back babes I want your bredrin I told her fall back babes I'm on a next ting I wanna feel alive right now your a dead ting You see that ting right there up in the red ting Tell her no ping ping not text ting Showdown in my room straight western I should go down in the books as the hardest Done with the road man stuff man a artist Go get my mix CD from the market Check my Videos out and if you don't like it Do like the rest of them do and just type it Make sure you leave your name fam don't hide it Niggas hating on the kid like John terry Same time I be sipping on Dom Peri Like they really never know bout my big semi Like they really never no that my tings heavy They don't really wanna war fam I been ready                                                                                                                                                                                                                                                                                                                                                                                                                                                                                                                                                                                                                                                                                                                                                                                                                                                                                                                                                                                                                                                                                                                                                                                                                                                                                                                                                                                                                                                                                                                                                                                                                                                                                                                                                                                                                                                                                                                                                                                                                                                                                                                                                                                                                                                                                                                                                                                                                                                                                                                                                                                                                                                                                                                                                                                                                                                                                                                                                                                                                                                                                                                                                                                                                                                                                                                                                                                                                                                                      418\n",
      "                                                                                                                                                                                                                                                                                                                                                                                                                                                                                                                                                                                                                                                                                                                                                                                                                                                                                                                                                                                                                                                                                                                                                                                                                                                                                                                                                                                                                                                                                                                                                                                                                                                                                                                                                                                                                                                                                                                                                                                                                                                                                                                                                                                                                                                                                                                                                                                                                                                                                                                                                                                                                                                                                                                                                                                                                                                                                                                                                                                                                                                                                                                                                                                                                                                                                                                                                                                                                                                                                                                                                                                                                                                                                                                                                                                                                                                                                                                                                                                                                                                                                                                                                                                                                                                                                                                                                                                                                                                                                                                                                                                                                                                                                                                                                                                                                                                                                                                                                                                                                                                                                                                                                                                                                                                                                                                                                                                                                                                                                                                                                                                                                                                                                                                                                                                                                                                                                                                                                                                                                                                                                                                                                          ... \n",
      "When you are old and tired and gray And wear your overcoat on sunny days When your brave tales have all been told I'll ask for them when you are old  When you are old and full of sleep And death no longer makes you weep When your body aches with cold I'll warm your heart when you are old  And you'll still be the same to me A comfort and a mystery And I will be old too, you see I'll need someone to comfort me  When you are old and pale and gaunt And a gentle hand is all you want I will give you mine to hold I'll be here when you are old                                                                                                                                                                                                                                                                                                                                                                                                                                                                                                                                                                                                                                                                                                                                                                                                                                                                                                                                                                                                                                                                                                                                                                                                                                                                                                                                                                                                                                                                                                                                                                                                                                                                                                                                                                                                                                                                                                                                                                                                                                                                                                                                                                                                                                                                                                                                                                                                                                                                                                                                                                                                                                                                                                                                                                                                                                                                                                                                                                                                                                                                                                                                                                                                                                                                                                                                                                                                                                                                                                                                                                                                                                                                                                                                                                                                                                                                                                                                                                                                                                                                                                                                                                                                                                                                                                                                                                                                                                                                                                                                                                                                                                                                                                                                                                                                                                                                                                                                                                                                                                                                                                                                                                                                                                                                                                                                                                                                                                                                                                                                                                                                1\n",
      "I've got five minutes to sneak a cigarette Five minutes to myself Back behind the screen door of Andy's luncheonette And I ain't got time to worry 'bout my health My boss Andy says I smoke myself to death Andy he reminds me some of you Back when you were Romeo and I was Juliet West Texas Capulet and Montague Now I don't think too much about you anymore We weren't much more than kids It was nearly twenty years ago I shut and locked that door Now I've got five minutes Not much time to reminisce Most nights I come home from work and I pour a glass of wine Sometimes it's three or four before I stop And Jessie makes a sandwich if I sleep through suppertime And she leaves me on the couch to sleep it off Now Jessie just turned 17 and she's wild as she can be And there ain't nothin' I can do Last weekend she ran off to meet a boy in Tennessee Just like I used to run to you I gave her hell when she came home this afternoon Mascara runnin' down her face Seems like history repeats itself, and it ain't up to you And in five minutes Your whole life can change Andy he's good to me, and I can see it in his eyes He'd love to take your place But somethin' deep inside me just withers up and dies To make love to him and only see your face Somehow I've let myself go gently down the stream A fine example I have set Between the working and the livin' and the ghosts that haunt my dreams I've got five minutes and I'm gonna smoke this cigarette                                                                                                                                                                                                                                                                                                                                                                                                                                                                                                                                                                                                                                                                                                                                                                                                                                                                                                                                                                                                                                                                                                                                                                                                                                                                                                                                                                                                                                                                                                                                                                                                                                                                                                                                                                                                                                                                                                                                                                                                                                                                                                                                                                                                                                                                                                                                                                                                                                                                                                                                                                                                                                                                                                                                                                                                                                                                                                                                                                                                                                                                                                                                                                                                                                                                                                                                                                                                                                                                                                                                                                                                                                                                                                                                                                                                                                                                                                                                                                                                                                                                                                                                                                                                                                                                                                                                                                                                                                                                                                                                                                                                                                                          1\n",
      "Woke up this mornin' The sundown shinin' in I found my broken mind In a brown paper bag of Zen Tripped on a cloud I fell eight miles high Tore my mind upon a jagged sky I just dropped in to see what condition My condition was in Ah, ah Pushed my soul in a Deep dark hole, followed it in Met myself crawlin' out As I was crawlin' in I woke up so tight I said \"I never will unwind.\" Saw too much I broke my mind I just dropped in to see what condition My condition was in Woh, Lord, Lord What condition my condition was in [Whistling Chorus.] Ah, ah, ah-ha Somebody painted \"April Fool,\" In big black letters on a Dead End sign I had my foot in the gas As I left the road and blew out my mind Eight miles outta Memphis Lord, I got no spare Eight miles straight up Downtown somewhere I just dropped in to see what condition My condition was in Oh, Lord, Lord, Lawd What condition my condition was in [Humming to end.]                                                                                                                                                                                                                                                                                                                                                                                                                                                                                                                                                                                                                                                                                                                                                                                                                                                                                                                                                                                                                                                                                                                                                                                                                                                                                                                                                                                                                                                                                                                                                                                                                                                                                                                                                                                                                                                                                                                                                                                                                                                                                                                                                                                                                                                                                                                                                                                                                                                                                                                                                                                                                                                                                                                                                                                                                                                                                                                                                                                                                                                                                                                                                                                                                                                                                                                                                                                                                                                                                                                                                                                                                                                                                                                                                                                                                                                                                                                                                                                                                                                                                                                                                                                                                                                                                                                                                                                                                                                                                                                                                                                                                                                                                                                                                                                                                                                                                                                                                                                                                                                                                                                                                                                                           1\n",
      "Every time it rains Lord I run to my window All I do is just wring my hands and moan Listen to that thunder roar can you hear that lonesome wind moan Tell me baby, now why you been gone so long?  Tell me baby, now why you been gone so long? You been gone so long now Tell me baby, now why you been gone so long?  The wolf is scratchin' at my door, Lord Lord, well, I hear that lonesome wind moan Tell me baby, why you been gone so long?  Somebody said they thought they saw you roaring down in Reno With a big ole man from San Antone They tell me I'm a fool to pine for you, well, what do they know Tell me baby, now why you been gone so long?  Tell me baby, now why you been gone so long You been gone so long now Tell me baby now why you been gone so long The wolf is scratchin' at my door Lord Lord and I can hear that lonesome wind moan Tell me baby now why you been gone so long  Ain't nothin' I wanna do Lord I guess I could get stoned Let the past paint pictures in my head Kill a fifth of Thunderbird and try to write a sad song Tell me baby, now why you been gone so long  Tell me baby, now why you been gone so long You been gone so long now  Tell me baby, now why you been gone so long The wolf is scratchin' at my door Lord Lord, I can hear that lonesome wind moan Yeah, tell me baby now why you been gone so long  The wolf is scratchin' at my door Lord Lord, I can hear that lonesome wind moan Tell me baby, now why you been gone so long                                                                                                                                                                                                                                                                                                                                                                                                                                                                                                                                                                                                                                                                                                                                                                                                                                                                                                                                                                                                                                                                                                                                                                                                                                                                                                                                                                                                                                                                                                                                                                                                                                                                                                                                                                                                                                                                                                                                                                                                                                                                                                                                                                                                                                                                                                                                                                                                                                                                                                                                                                                                                                                                                                                                                                                                                                                                                                                                                                                                                                                                                                                                                                                                                                                                                                                                                                                                                                                                                                                                                                                                                                                                                                                                                                                                                                                                                                                                                                                                                                                                                                                                                                                                                                                                                                                                                                                                                                                                                                                                                                                                                                                   1\n",
      "I wanna b with you I wanna b with you baby Yeah baby  I wanna b with you 'cause my love is true There's so many things that I wanna do I wanna b with you every night and day Oh baby oh baby please stay  What's up what's wrong? Don't stop loving me 'cause my love is very deep And I know what you need What can I do to fulfill your dreams? I wanna b with you No matter what you do so come on Give what I need Hit hit I get straight with it 'cause when I see you girl You know you make me go wicked Back to the point and you know me be movin' I wanna be with you 'cause My heart is still groovin' Girlie girlie tell me What you want from me So deep in love baby can't you see I wanna hear Some lovely words from you Come baby come Say I wanna be with you I wanna be with you You wanna be with me girl well just come here The love I got will be right here I wanna make you weak in every way 'cause the love I give you walk this way                                                                                                                                                                                                                                                                                                                                                                                                                                                                                                                                                                                                                                                                                                                                                                                                                                                                                                                                                                                                                                                                                                                                                                                                                                                                                                                                                                                                                                                                                                                                                                                                                                                                                                                                                                                                                                                                                                                                                                                                                                                                                                                                                                                                                                                                                                                                                                                                                                                                                                                                                                                                                                                                                                                                                                                                                                                                                                                                                                                                                                                                                                                                                                                                                                                                                                                                                                                                                                                                                                                                                                                                                                                                                                                                                                                                                                                                                                                                                                                                                                                                                                                                                                                                                                                                                                                                                                                                                                                                                                                                                                                                                                                                                                                                                                                                                                                                                                                                                                                                                                                                                                                                                                                             1\n",
      "Name: count, Length: 497496, dtype: int64\n",
      "\n",
      "--- Length (Unique values: 1243) ---\n",
      "Length\n",
      "03:14    4675\n",
      "03:40    4541\n",
      "03:33    4540\n",
      "03:12    4528\n",
      "03:25    4469\n",
      "         ... \n",
      "00:05       1\n",
      "15:59       1\n",
      "13:25       1\n",
      "19:56       1\n",
      "18:13       1\n",
      "Name: count, Length: 1243, dtype: int64\n",
      "\n",
      "--- emotion (Unique values: 13) ---\n",
      "emotion\n",
      "joy          209009\n",
      "sadness      171078\n",
      "anger        109678\n",
      "fear          28097\n",
      "love          27963\n",
      "surprise       5592\n",
      "True             17\n",
      "Love              3\n",
      "pink              2\n",
      "angry             1\n",
      "thirst            1\n",
      "confusion         1\n",
      "interest          1\n",
      "Name: count, dtype: int64\n",
      "\n",
      "--- Genre (Unique values: 3097) ---\n"
     ]
    },
    {
     "name": "stderr",
     "output_type": "stream",
     "text": [
      "2025-06-12 18:29:03,906 - INFO - Analyzed unique values and frequencies for 'Genre'.\n",
      "2025-06-12 18:29:04,088 - INFO - Analyzed unique values and frequencies for 'Album'.\n"
     ]
    },
    {
     "name": "stdout",
     "output_type": "stream",
     "text": [
      "Genre\n",
      "hip hop                           262070\n",
      "pop                                11451\n",
      "country                             7392\n",
      "folk                                4897\n",
      "jazz                                3913\n",
      "                                   ...  \n",
      "electronic,k-pop,pop                   1\n",
      "electronic,drum and bass,house         1\n",
      "hip-hop,funk,soul                      1\n",
      "pop,math rock,indie rock               1\n",
      "alternative,punk,rock                  1\n",
      "Name: count, Length: 3097, dtype: int64\n",
      "\n",
      "--- Album (Unique values: 154681) ---\n",
      "Album\n",
      "685 (Remix)                                                                  1603\n",
      "Greatest Hits                                                                 683\n",
      "Everything                                                                    602\n",
      "Road From 26                                                                  599\n",
      "312 DAY                                                                       593\n",
      "                                                                             ... \n",
      "Just a Little Crush                                                             1\n",
      "Wildweed                                                                        1\n",
      "Always Be                                                                       1\n",
      "The Best of Jeffrey Foskett, Vol. 2                                             1\n",
      "I Wanna Be With You : Originally Performed By Fun Factory Karaoke Verison       1\n",
      "Name: count, Length: 154682, dtype: int64\n"
     ]
    },
    {
     "name": "stderr",
     "output_type": "stream",
     "text": [
      "2025-06-12 18:29:04,172 - INFO - Analyzed unique values and frequencies for 'Release Date'.\n",
      "2025-06-12 18:29:04,219 - INFO - Analyzed unique values and frequencies for 'Key'.\n",
      "2025-06-12 18:29:04,278 - INFO - Analyzed unique values and frequencies for 'Loudness (db)'.\n",
      "2025-06-12 18:29:04,301 - INFO - Analyzed unique values and frequencies for 'Time signature'.\n",
      "2025-06-12 18:29:04,336 - INFO - Analyzed unique values and frequencies for 'Explicit'.\n"
     ]
    },
    {
     "name": "stdout",
     "output_type": "stream",
     "text": [
      "\n",
      "--- Release Date (Unique values: 14299) ---\n",
      "Release Date\n",
      "1st January 2006      2730\n",
      "1st January 2011      2466\n",
      "1st January 2013      2454\n",
      "1st January 2008      2172\n",
      "1st January 2007      2096\n",
      "                      ... \n",
      "14th January 1999        1\n",
      "23rd February 1968       1\n",
      "21st October 1995        1\n",
      "16th July 1968           1\n",
      "10th December 2006       1\n",
      "Name: count, Length: 14299, dtype: int64\n",
      "\n",
      "--- Key (Unique values: 24) ---\n",
      "Key\n",
      "C Maj     47745\n",
      "G Maj     47465\n",
      "D Maj     44568\n",
      "C# Maj    44409\n",
      "A Maj     33849\n",
      "G# Maj    26045\n",
      "B min     25772\n",
      "E min     22348\n",
      "F Maj     22298\n",
      "A min     21094\n",
      "A# min    20261\n",
      "B Maj     19764\n",
      "E Maj     19633\n",
      "F# min    19529\n",
      "F# Maj    19470\n",
      "F min     19073\n",
      "C# min    18583\n",
      "A# Maj    16250\n",
      "G min     14558\n",
      "C min     12224\n",
      "D min     10455\n",
      "G# min    10293\n",
      "D# Maj     9233\n",
      "D# min     6524\n",
      "Name: count, dtype: int64\n",
      "\n",
      "--- Loudness (db) (Unique values: 3746) ---\n",
      "Loudness (db)\n",
      "-6db        10611\n",
      "-7db         8986\n",
      "-5db         8221\n",
      "-8db         7010\n",
      "-4db         6528\n",
      "            ...  \n",
      "2.61db          1\n",
      "-32.95db        1\n",
      "1.36db          1\n",
      "-41.13db        1\n",
      "-31.59db        1\n",
      "Name: count, Length: 3746, dtype: int64\n",
      "\n",
      "--- Time signature (Unique values: 4) ---\n",
      "Time signature\n",
      "4/4    501051\n",
      "3/4     36934\n",
      "5/4      9468\n",
      "1/4      3982\n",
      "NaN         8\n",
      "Name: count, dtype: int64\n",
      "\n",
      "--- Explicit (Unique values: 2) ---\n",
      "Explicit\n",
      "No     389378\n",
      "Yes    162065\n",
      "Name: count, dtype: int64\n"
     ]
    },
    {
     "name": "stderr",
     "output_type": "stream",
     "text": [
      "2025-06-12 18:29:04,500 - INFO - Analyzed unique values and frequencies for 'Similar Artist 1'.\n"
     ]
    },
    {
     "name": "stdout",
     "output_type": "stream",
     "text": [
      "\n",
      "--- Similar Artist 1 (Unique values: 90280) ---\n",
      "Similar Artist 1\n",
      "Victor J Sefo,Lisi,Mwayz,Sefos.Beats    1610\n",
      "L.A.B.                                  1500\n",
      "The Exponents                            756\n",
      "Corrella                                 755\n",
      "Kora                                     721\n",
      "                                        ... \n",
      "redknobs                                   1\n",
      "Daniel Sahuleka                            1\n",
      "Erin Kirby                                 1\n",
      "CHRIS VAYLE                                1\n",
      "CZ Wang,Neo Image,Separated At Birth       1\n",
      "Name: count, Length: 90280, dtype: int64\n",
      "\n",
      "--- Similar Song 1 (Unique values: 218726) ---\n"
     ]
    },
    {
     "name": "stderr",
     "output_type": "stream",
     "text": [
      "2025-06-12 18:29:04,732 - INFO - Analyzed unique values and frequencies for 'Similar Song 1'.\n",
      "2025-06-12 18:29:04,877 - INFO - Analyzed unique values and frequencies for 'Similar Artist 2'.\n"
     ]
    },
    {
     "name": "stdout",
     "output_type": "stream",
     "text": [
      "Similar Song 1\n",
      "MAD vs G2 | 2021 Summer    1603\n",
      "Dont Watch That             593\n",
      "Still Tryna Get It          575\n",
      "8 Mile Road                 470\n",
      "Snakes                      451\n",
      "                           ... \n",
      "Humble Neighborhood           1\n",
      "Manhood                       1\n",
      "End  Start Again              1\n",
      "Photo Copied                  1\n",
      "NEVER EXISTED                 1\n",
      "Name: count, Length: 218727, dtype: int64\n",
      "\n",
      "--- Similar Artist 2 (Unique values: 87533) ---\n",
      "Similar Artist 2\n",
      "Victor J Sefo,Lisi,Mwayz,Sefos.Beats    1615\n",
      "L.A.B.                                  1513\n",
      "Corrella                                 802\n",
      "The Exponents                            780\n",
      "Kora                                     745\n",
      "                                        ... \n",
      "The Solo Committee                         1\n",
      "Jim Brickman,Martina McBride               1\n",
      "Steffany Gretzinger,Bobby Strand           1\n",
      "The Keystones                              1\n",
      "James Lloyd                                1\n",
      "Name: count, Length: 87533, dtype: int64\n",
      "\n",
      "--- Similar Song 2 (Unique values: 207670) ---\n"
     ]
    },
    {
     "name": "stderr",
     "output_type": "stream",
     "text": [
      "2025-06-12 18:29:05,128 - INFO - Analyzed unique values and frequencies for 'Similar Song 2'.\n",
      "2025-06-12 18:29:05,268 - INFO - Analyzed unique values and frequencies for 'Similar Artist 3'.\n"
     ]
    },
    {
     "name": "stdout",
     "output_type": "stream",
     "text": [
      "Similar Song 2\n",
      "Hit the Road                   1603\n",
      "Somebody                        657\n",
      "All The Way G                   575\n",
      "Shots on the Hood of My Car     469\n",
      "My Nigga                        418\n",
      "                               ... \n",
      "Look At Her Remix                 1\n",
      "What About Now?                   1\n",
      "None of Dem                       1\n",
      "Born Never Asked                  1\n",
      "Closer To Your Heart              1\n",
      "Name: count, Length: 207671, dtype: int64\n",
      "\n",
      "--- Similar Artist 3 (Unique values: 86963) ---\n",
      "Similar Artist 3\n",
      "Victor J Sefo,Lisi,Mwayz,Sefos.Beats                  1618\n",
      "L.A.B.                                                1503\n",
      "Corrella                                               835\n",
      "The Exponents                                          795\n",
      "Kora                                                   760\n",
      "                                                      ... \n",
      "Fabolous,Jeremih                                         1\n",
      "Wu-Tang Clan,Inspectah Deck,Masta Killa,Cappadonna       1\n",
      "P-Lo,Kehlani                                             1\n",
      "DJ ESCO,Future,Rich The Kid,Young Thug                   1\n",
      "Gregory Porter,Claptone                                  1\n",
      "Name: count, Length: 86963, dtype: int64\n",
      "\n",
      "--- Similar Song 3 (Unique values: 206000) ---\n"
     ]
    },
    {
     "name": "stderr",
     "output_type": "stream",
     "text": [
      "2025-06-12 18:29:05,466 - INFO - Analyzed unique values and frequencies for 'Similar Song 3'.\n",
      "2025-06-12 18:29:05,480 - INFO - Displayed distribution of the 'emotion' target variable.\n",
      "2025-06-12 18:29:05,481 - INFO - Data exploration completed successfully.\n"
     ]
    },
    {
     "name": "stdout",
     "output_type": "stream",
     "text": [
      "Similar Song 3\n",
      "J. Cole No Role Modelz                                     1603\n",
      "IDGAF                                                       614\n",
      "Method Man  Black Thought Sway In The Morning Freestyle     593\n",
      "Only One Road                                               469\n",
      "In My Bag                                                   425\n",
      "                                                           ... \n",
      "Ambassel                                                      1\n",
      "Get to know you girl                                          1\n",
      "Shadows of da Gods                                            1\n",
      "CHERRY BOMB Performance Ver.                                  1\n",
      "Light in Places                                               1\n",
      "Name: count, Length: 206001, dtype: int64\n",
      "\n",
      "### 'emotion' column distribution (Target Variable) ###\n",
      "emotion\n",
      "joy          209009\n",
      "sadness      171078\n",
      "anger        109678\n",
      "fear          28097\n",
      "love          27963\n",
      "surprise       5592\n",
      "True             17\n",
      "Love              3\n",
      "pink              2\n",
      "angry             1\n",
      "thirst            1\n",
      "confusion         1\n",
      "interest          1\n",
      "Name: count, dtype: int64\n"
     ]
    }
   ],
   "source": [
    "\n",
    "\n",
    "\n",
    "# Entry Point:\n",
    "if __name__ == \"__main__\":\n",
    "    main()"
   ]
  },
  {
   "cell_type": "code",
   "execution_count": null,
   "metadata": {},
   "outputs": [],
   "source": []
  }
 ],
 "metadata": {
  "kernelspec": {
   "display_name": "sep",
   "language": "python",
   "name": "python3"
  },
  "language_info": {
   "codemirror_mode": {
    "name": "ipython",
    "version": 3
   },
   "file_extension": ".py",
   "mimetype": "text/x-python",
   "name": "python",
   "nbconvert_exporter": "python",
   "pygments_lexer": "ipython3",
   "version": "3.10.9"
  }
 },
 "nbformat": 4,
 "nbformat_minor": 4
}
